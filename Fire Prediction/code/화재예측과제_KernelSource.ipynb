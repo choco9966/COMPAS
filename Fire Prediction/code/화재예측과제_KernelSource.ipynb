{
 "cells": [
  {
   "cell_type": "markdown",
   "metadata": {},
   "source": [
    "## 결과가 Lightgbm과 Scikit-Learn 버전에 따라 달라지니 아래 버전으로 재현해야 합니다\n",
    ">* LightGBM: 2.3.0\n",
    ">* Scikit-learn: 0.21.3"
   ]
  },
  {
   "cell_type": "code",
   "execution_count": 211,
   "metadata": {
    "ExecuteTime": {
     "end_time": "2019-12-13T04:34:07.316936Z",
     "start_time": "2019-12-13T04:34:07.309920Z"
    }
   },
   "outputs": [],
   "source": [
    "import gc\n",
    "import os\n",
    "import numpy as np\n",
    "import pandas as pd\n",
    "\n",
    "import matplotlib.pyplot as plt\n",
    "import seaborn as sns\n",
    "\n",
    "from tqdm import tqdm_notebook as tqdm\n",
    "from sklearn.metrics import mean_squared_error, roc_auc_score\n",
    "from sklearn import preprocessing\n",
    "from sklearn.preprocessing import LabelEncoder\n",
    "from sklearn.model_selection import KFold, StratifiedKFold, TimeSeriesSplit, GroupKFold, LeaveOneGroupOut, LeavePGroupsOut\n",
    "import lightgbm as lgb\n",
    "import xgboost as xgb\n",
    "import catboost as cb\n",
    "\n",
    "import datetime\n",
    "from dateutil.parser import parse\n",
    "from sklearn.metrics import f1_score\n",
    "pd.set_option('display.max_rows',500)\n",
    "\n",
    "import warnings\n",
    "warnings.filterwarnings(\"ignore\")"
   ]
  },
  {
   "cell_type": "code",
   "execution_count": 212,
   "metadata": {
    "ExecuteTime": {
     "end_time": "2019-12-13T04:34:07.325923Z",
     "start_time": "2019-12-13T04:34:07.318930Z"
    }
   },
   "outputs": [],
   "source": [
    "def optimal_cut_value(y_true, y_pred, cut_min=0.2, cut_max=0.4, cut_step = 0.01):\n",
    "    test_cut_list = np.arange(cut_min, cut_max, cut_step)\n",
    "    result = pd.DataFrame(columns=['cut','score'])\n",
    "    for cut in tqdm(test_cut_list):\n",
    "        y_pred_temp = []\n",
    "        for s in y_pred:\n",
    "            if s >= cut:\n",
    "                y_pred_temp.append(1)\n",
    "            else:\n",
    "                y_pred_temp.append(0)\n",
    "    \n",
    "        score = f1_score(y_true, y_pred_temp)\n",
    "        result.loc[len(result),['cut','score']] = (cut, score)\n",
    "    result = result.sort_values('score',ascending=False).reset_index(drop=True)\n",
    "    print(result.head(1).values)\n",
    "    return result.head(1).values[0]"
   ]
  },
  {
   "cell_type": "code",
   "execution_count": 213,
   "metadata": {
    "ExecuteTime": {
     "end_time": "2019-12-13T04:34:07.332925Z",
     "start_time": "2019-12-13T04:34:07.327923Z"
    }
   },
   "outputs": [],
   "source": [
    "def make_time_feature(df):\n",
    "    df['dt_of_fr'] = pd.to_datetime(df['dt_of_fr'])\n",
    "    df[\"year\"] = df[\"dt_of_fr\"].dt.year\n",
    "    df[\"hour\"] = df[\"dt_of_fr\"].dt.hour\n",
    "    df[\"weekday\"] = df[\"dt_of_fr\"].dt.weekday\n",
    "    df[\"month\"] = df[\"dt_of_fr\"].dt.month\n",
    "    df[\"day\"] = df[\"dt_of_fr\"].dt.day\n",
    "    return df"
   ]
  },
  {
   "cell_type": "code",
   "execution_count": 214,
   "metadata": {
    "ExecuteTime": {
     "end_time": "2019-12-13T04:34:07.340927Z",
     "start_time": "2019-12-13T04:34:07.334925Z"
    }
   },
   "outputs": [],
   "source": [
    "def update_null_data(data, index_col_list, target_col, agg_func, is_fillna_ffill=False):\n",
    "    null_count = data[target_col].isnull().sum()\n",
    "    print(\"############### FILL NA ###############\")\n",
    "    print(index_col_list, agg_func,'->',target_col)\n",
    "    print(\"Original NA Count: \",null_count)\n",
    "    data = data.set_index(index_col_list)\n",
    "    if is_fillna_ffill is True:\n",
    "        _filler = pd.DataFrame(data.groupby(index_col_list)[target_col].agg(agg_func).fillna(method='ffill') ,columns=[target_col])\n",
    "    else:\n",
    "        _filler = pd.DataFrame(data.groupby(index_col_list)[target_col].agg(agg_func) ,columns=[target_col])\n",
    "    data.update(_filler,overwrite=False)\n",
    "    data = data.reset_index()\n",
    "    remain_null_count = data[target_col].isnull().sum()\n",
    "    print(\"Fill NA Count: \", null_count-remain_null_count)\n",
    "    print(\"Remain Null Count: \", remain_null_count)\n",
    "    return data"
   ]
  },
  {
   "cell_type": "code",
   "execution_count": 215,
   "metadata": {
    "ExecuteTime": {
     "end_time": "2019-12-13T04:34:08.333151Z",
     "start_time": "2019-12-13T04:34:07.341927Z"
    },
    "scrolled": true
   },
   "outputs": [],
   "source": [
    "train = pd.read_csv('../input/PJT002_train.csv')\n",
    "test = pd.read_csv('../input/PJT002_test.csv')\n",
    "validation = pd.read_csv('../input/PJT002_validation.csv')\n",
    "submission = pd.read_csv('../input/PJT002_submission.csv')"
   ]
  },
  {
   "cell_type": "code",
   "execution_count": 216,
   "metadata": {
    "ExecuteTime": {
     "end_time": "2019-12-13T04:34:08.361166Z",
     "start_time": "2019-12-13T04:34:08.335160Z"
    }
   },
   "outputs": [],
   "source": [
    "train['fr_yn'] = train['fr_yn'].map({'Y':1,'N':0})\n",
    "train['dataset'] = 0\n",
    "validation['fr_yn'] = validation['fr_yn'].map({'Y':1,'N':0})\n",
    "validation['dataset'] = 1\n",
    "test['dataset'] = 2"
   ]
  },
  {
   "cell_type": "code",
   "execution_count": 217,
   "metadata": {
    "ExecuteTime": {
     "end_time": "2019-12-13T04:34:08.535196Z",
     "start_time": "2019-12-13T04:34:08.362167Z"
    }
   },
   "outputs": [],
   "source": [
    "all_data = pd.concat([train,validation, test], ignore_index=True)"
   ]
  },
  {
   "cell_type": "code",
   "execution_count": 218,
   "metadata": {
    "ExecuteTime": {
     "end_time": "2019-12-13T04:34:10.136559Z",
     "start_time": "2019-12-13T04:34:08.538197Z"
    }
   },
   "outputs": [],
   "source": [
    "lw_feature = [ c for c in all_data.columns if c.find('lw') != -1]\n",
    "ele_engry_feature = [ c for c in all_data.columns if c.find('ele_engry') != -1]\n",
    "gas_engry_feature = [ c for c in all_data.columns if c.find('gas') != -1]\n",
    "\n",
    "train_columns = [c for c in all_data.columns if c not in lw_feature+ele_engry_feature+ele_engry_feature+['dataset','dt_of_fr','fr_yn','id']]\n",
    "all_data['null_count'] = all_data[train_columns].isnull().sum(axis=1)\n",
    "    \n",
    "# dt_of_athrztn, ele_engry_feature, gas_engry_feature\n",
    "all_data['ele_null_count'] = all_data[ele_engry_feature].isnull().sum(axis=1)\n",
    "all_data['ele_engry_mean'] = all_data[ele_engry_feature].mean(axis=1)\n",
    "all_data['ele_engry_sum'] = all_data[ele_engry_feature].sum(axis=1)\n",
    "all_data['ele_engry_max'] = all_data[ele_engry_feature].max(axis=1)\n",
    "all_data['gas_engry_mean'] = all_data[gas_engry_feature].mean(axis=1)\n",
    "all_data['gas_engry_sum'] = all_data[gas_engry_feature].sum(axis=1)\n",
    "all_data['gas_engry_max'] = all_data[gas_engry_feature].max(axis=1)\n",
    "\n",
    "# lw_feature\n",
    "all_data['lw_null_count'] = all_data[lw_feature].isnull().sum(axis=1)\n",
    "all_data['lw_null_mean'] = all_data[lw_feature].mean(axis=1)\n",
    "all_data['lw_null_sum'] = all_data[lw_feature].sum(axis=1)"
   ]
  },
  {
   "cell_type": "code",
   "execution_count": 219,
   "metadata": {
    "ExecuteTime": {
     "end_time": "2019-12-13T04:34:10.206574Z",
     "start_time": "2019-12-13T04:34:10.138559Z"
    }
   },
   "outputs": [],
   "source": [
    "all_data = make_time_feature(all_data) # time feature"
   ]
  },
  {
   "cell_type": "code",
   "execution_count": 220,
   "metadata": {
    "ExecuteTime": {
     "end_time": "2019-12-13T04:34:10.858724Z",
     "start_time": "2019-12-13T04:34:10.208575Z"
    }
   },
   "outputs": [],
   "source": [
    "# emd nm을 분리한다. 분리할 때 규칙에 안 맞는 것이 많아서 수동으로 규칙을 찾아 분리하는 함수를 만들었다.\n",
    "def emd_nm_correction(x):\n",
    "    if pd.isna(x):\n",
    "        return np.nan\n",
    "    s_p = x.split(' ')\n",
    "    v = s_p[1]\n",
    "    if len(v) >3:\n",
    "        return s_p[0] + ' ' +v[:3] + ' '+v[3:] + ' '+' '.join(s_p[2:])\n",
    "    else:\n",
    "        return x\n",
    "all_data['emd_nm'] = all_data['emd_nm'].apply(lambda x: emd_nm_correction(x))\n",
    "all_data.loc[all_data['emd_nm'].isnull(),'emd_nm'] = '- - -'\n",
    "\n",
    "def get_emd_nm_list(x):\n",
    "    if pd.isna(x):\n",
    "        return np.nan\n",
    "    s_p = x.split(' ')\n",
    "    return s_p\n",
    "all_data['emd_nm_list'] = all_data['emd_nm'].apply(lambda x: get_emd_nm_list(x))\n",
    "\n",
    "temp = pd.DataFrame(all_data['emd_nm_list'].to_list())\n",
    "temp.columns = [f'emd_nm_{c}'for c in temp.columns]\n",
    "all_data = pd.concat([all_data,temp],axis=1)\n",
    "del all_data['emd_nm_list']\n",
    "del all_data['emd_nm_4']"
   ]
  },
  {
   "cell_type": "code",
   "execution_count": 221,
   "metadata": {
    "ExecuteTime": {
     "end_time": "2019-12-13T04:34:11.425851Z",
     "start_time": "2019-12-13T04:34:10.860732Z"
    },
    "scrolled": false
   },
   "outputs": [],
   "source": [
    "# 건물, 건축, 토지 면적과 지역을 사용하여 같은 건물을 판단한다.\n",
    "all_data['same_bld'] = all_data['bldng_ar'].astype(str) +'_' +all_data['ttl_ar'].astype(str)+'_'+all_data['lnd_ar'].astype(str)+'_'+all_data['emd_nm'].astype(str)\n",
    "all_data.loc[all_data['emd_nm'].isnull(),'same_bld' ] = np.nan\n",
    "all_data.loc[all_data['bldng_ar']==0,'same_bld' ] = np.nan\n",
    "all_data['is_null_same_bld'] = 0\n",
    "all_data.loc[all_data['same_bld'].isnull(),'is_null_same_bld'] = 1\n",
    "all_data['same_bld_freq_enc'] = all_data['same_bld'].map(all_data['same_bld'].value_counts())\n",
    "all_data['is_only_one_same_bld'] = 0\n",
    "all_data.loc[all_data['same_bld_freq_enc']==1, 'is_only_one_same_bld' ] = 1"
   ]
  },
  {
   "cell_type": "code",
   "execution_count": 222,
   "metadata": {
    "ExecuteTime": {
     "end_time": "2019-12-13T04:34:11.438855Z",
     "start_time": "2019-12-13T04:34:11.427851Z"
    }
   },
   "outputs": [],
   "source": [
    "all_data['each_ttl_ar_price'] = all_data['ttl_ar']/all_data['bldng_ar_prc'] # 건물 면적대비 가격\n",
    "all_data['each_bldng_ar_price'] = all_data['bldng_ar']/all_data['bldng_ar_prc'] # 건축면적 대비 가격\n",
    "all_data['each_lnd_ar_price'] = all_data['lnd_ar']/all_data['bldng_ar_prc'] # 토지면적 대비 가격"
   ]
  },
  {
   "cell_type": "code",
   "execution_count": 223,
   "metadata": {
    "ExecuteTime": {
     "end_time": "2019-12-13T04:34:19.582699Z",
     "start_time": "2019-12-13T04:34:11.440855Z"
    },
    "scrolled": true
   },
   "outputs": [
    {
     "name": "stdout",
     "output_type": "stream",
     "text": [
      "############### FILL NA ###############\n",
      "['month', 'day', 'hour', 'emd_nm'] mean -> prcpttn\n",
      "Original NA Count:  62721\n",
      "Fill NA Count:  153\n",
      "Remain Null Count:  62568\n",
      "############### FILL NA ###############\n",
      "['month', 'day', 'emd_nm'] mean -> prcpttn\n",
      "Original NA Count:  62568\n",
      "Fill NA Count:  3706\n",
      "Remain Null Count:  58862\n",
      "############### FILL NA ###############\n",
      "['month', 'day', 'emd_nm_2'] mean -> prcpttn\n",
      "Original NA Count:  58862\n",
      "Fill NA Count:  2152\n",
      "Remain Null Count:  56710\n",
      "############### FILL NA ###############\n",
      "['month', 'day', 'emd_nm_1'] mean -> prcpttn\n",
      "Original NA Count:  56710\n",
      "Fill NA Count:  22476\n",
      "Remain Null Count:  34234\n",
      "############### FILL NA ###############\n",
      "['month', 'day', 'emd_nm'] mean -> tmprtr\n",
      "Original NA Count:  15\n",
      "Fill NA Count:  15\n",
      "Remain Null Count:  0\n",
      "############### FILL NA ###############\n",
      "['month', 'day', 'emd_nm'] mean -> wnd_spd\n",
      "Original NA Count:  38\n",
      "Fill NA Count:  38\n",
      "Remain Null Count:  0\n",
      "############### FILL NA ###############\n",
      "['month', 'day', 'emd_nm'] mean -> hmdt\n",
      "Original NA Count:  27\n",
      "Fill NA Count:  27\n",
      "Remain Null Count:  0\n",
      "############### FILL NA ###############\n",
      "['month', 'day', 'emd_nm'] mean -> wnd_drctn\n",
      "Original NA Count:  237\n",
      "Fill NA Count:  237\n",
      "Remain Null Count:  0\n"
     ]
    }
   ],
   "source": [
    "all_data['is_null_prcpttn'] = all_data['prcpttn'].isnull()\n",
    "all_data = update_null_data(all_data, ['month','day','hour','emd_nm'], 'prcpttn','mean', is_fillna_ffill=False)\n",
    "all_data = update_null_data(all_data, ['month','day','emd_nm'], 'prcpttn','mean', is_fillna_ffill=False)\n",
    "all_data = update_null_data(all_data, ['month','day','emd_nm_2'], 'prcpttn','mean', is_fillna_ffill=False)\n",
    "all_data = update_null_data(all_data, ['month','day','emd_nm_1'], 'prcpttn','mean', is_fillna_ffill=False)\n",
    "all_data.loc[all_data['prcpttn'].isnull() ,'prcpttn'] = 0 # 강수량이 na는 없는 것으로?\n",
    "\n",
    "# 같은 지역 월/날짜로 na값을 채운다.\n",
    "# na가 feature가 될 수 있기도 한데 일단 나중에 분석해봐야 한다.\n",
    "all_data = update_null_data(all_data, ['month','day','emd_nm'], 'tmprtr','mean', is_fillna_ffill=True)\n",
    "all_data = update_null_data(all_data, ['month','day','emd_nm'], 'wnd_spd','mean', is_fillna_ffill=True)\n",
    "all_data = update_null_data(all_data, ['month','day','emd_nm'], 'hmdt','mean', is_fillna_ffill=True)\n",
    "all_data = update_null_data(all_data, ['month','day','emd_nm'], 'wnd_drctn','mean', is_fillna_ffill=True)"
   ]
  },
  {
   "cell_type": "code",
   "execution_count": 224,
   "metadata": {
    "ExecuteTime": {
     "end_time": "2019-12-13T04:34:23.896685Z",
     "start_time": "2019-12-13T04:34:19.584699Z"
    }
   },
   "outputs": [],
   "source": [
    "from meteocalc import Temp, dew_point, heat_index, wind_chill, feels_like\n",
    "\n",
    "# 불쾌지수\n",
    "all_data['feels_bad'] = (9/5)*all_data['tmprtr'] - 0.55*(1-all_data['hmdt'])*((9/5)*all_data['tmprtr']-26)+32\n",
    "\n",
    "all_data['tmprtr_f'] = all_data['tmprtr'].apply(lambda x: Temp(x,'c').f)\n",
    "# meteocalc package를 사용하여 체감온도 계산, 체감온도 계산할 때 화씨 단위로 해야해서 변환 후 계산\n",
    "all_data['feels_like'] = all_data[['tmprtr_f','hmdt','wnd_spd']].apply(lambda x: feels_like(x['tmprtr_f'],x['hmdt'],x['wnd_spd']),axis=1)\n",
    "# heat index 계산\n",
    "all_data['heat_index'] = all_data[['tmprtr_f','hmdt']].apply(lambda x: heat_index(x['tmprtr_f'],x['hmdt']),axis=1)\n",
    "\n",
    "del all_data['tmprtr_f']\n",
    "all_data['feels_like'] = all_data['feels_like'].astype(float)\n",
    "all_data['heat_index'] = all_data['heat_index'].astype(float)"
   ]
  },
  {
   "cell_type": "code",
   "execution_count": 225,
   "metadata": {
    "ExecuteTime": {
     "end_time": "2019-12-13T04:34:26.152187Z",
     "start_time": "2019-12-13T04:34:23.897685Z"
    }
   },
   "outputs": [
    {
     "name": "stdout",
     "output_type": "stream",
     "text": [
      "############### FILL NA ###############\n",
      "['emd_nm'] mean -> fr_mn_cnt\n",
      "Original NA Count:  42\n",
      "Fill NA Count:  40\n",
      "Remain Null Count:  2\n",
      "############### FILL NA ###############\n",
      "['emd_nm_2'] mean -> fr_mn_cnt\n",
      "Original NA Count:  2\n",
      "Fill NA Count:  1\n",
      "Remain Null Count:  1\n",
      "############### FILL NA ###############\n",
      "['emd_nm_1'] mean -> fr_mn_cnt\n",
      "Original NA Count:  1\n",
      "Fill NA Count:  1\n",
      "Remain Null Count:  0\n"
     ]
    }
   ],
   "source": [
    "all_data['fr_mn_cnt_null'] = all_data['fr_mn_cnt'].isnull()\n",
    "all_data = update_null_data(all_data, ['emd_nm'], 'fr_mn_cnt','mean', is_fillna_ffill=False)\n",
    "all_data = update_null_data(all_data, ['emd_nm_2'], 'fr_mn_cnt','mean', is_fillna_ffill=False)\n",
    "all_data = update_null_data(all_data, ['emd_nm_1'], 'fr_mn_cnt','mean', is_fillna_ffill=False)"
   ]
  },
  {
   "cell_type": "code",
   "execution_count": 226,
   "metadata": {
    "ExecuteTime": {
     "end_time": "2019-12-13T04:34:35.338268Z",
     "start_time": "2019-12-13T04:34:26.154188Z"
    },
    "scrolled": true
   },
   "outputs": [
    {
     "name": "stdout",
     "output_type": "stream",
     "text": [
      "############### FILL NA ###############\n",
      "['same_bld', 'year'] mean -> hm_cnt\n",
      "Original NA Count:  702\n",
      "Fill NA Count:  0\n",
      "Remain Null Count:  702\n",
      "############### FILL NA ###############\n",
      "['emd_nm', 'year', 'month'] mean -> hm_cnt\n",
      "Original NA Count:  702\n",
      "Fill NA Count:  11\n",
      "Remain Null Count:  691\n",
      "############### FILL NA ###############\n",
      "['emd_nm', 'year'] mean -> hm_cnt\n",
      "Original NA Count:  691\n",
      "Fill NA Count:  11\n",
      "Remain Null Count:  680\n",
      "############### FILL NA ###############\n",
      "['emd_nm'] mean -> hm_cnt\n",
      "Original NA Count:  680\n",
      "Fill NA Count:  492\n",
      "Remain Null Count:  188\n",
      "############### FILL NA ###############\n",
      "['emd_nm_2', 'year', 'month'] mean -> hm_cnt\n",
      "Original NA Count:  188\n",
      "Fill NA Count:  119\n",
      "Remain Null Count:  69\n",
      "############### FILL NA ###############\n",
      "['emd_nm_2', 'year'] mean -> hm_cnt\n",
      "Original NA Count:  69\n",
      "Fill NA Count:  1\n",
      "Remain Null Count:  68\n",
      "############### FILL NA ###############\n",
      "['emd_nm_2'] mean -> hm_cnt\n",
      "Original NA Count:  68\n",
      "Fill NA Count:  59\n",
      "Remain Null Count:  9\n",
      "############### FILL NA ###############\n",
      "['emd_nm_1', 'year', 'month'] mean -> hm_cnt\n",
      "Original NA Count:  9\n",
      "Fill NA Count:  5\n",
      "Remain Null Count:  4\n",
      "############### FILL NA ###############\n",
      "['emd_nm_1', 'year'] mean -> hm_cnt\n",
      "Original NA Count:  4\n",
      "Fill NA Count:  0\n",
      "Remain Null Count:  4\n",
      "############### FILL NA ###############\n",
      "['emd_nm_1'] mean -> hm_cnt\n",
      "Original NA Count:  4\n",
      "Fill NA Count:  0\n",
      "Remain Null Count:  4\n"
     ]
    }
   ],
   "source": [
    "# 같은 지역이더라도 연도별 인구수가 다르기 때문에, 같은 빌딩에 같은 년도로 먼저 채우고\n",
    "# 지역, 연도 -> 지역, 세부지역 -> 큰 지역 순으로 NULL값을 채워나간다.\n",
    "all_data['hm_cnt_null'] = all_data['hm_cnt'].isnull()\n",
    "all_data = update_null_data(all_data, ['same_bld','year'], 'hm_cnt','mean')\n",
    "all_data = update_null_data(all_data, ['emd_nm','year','month'], 'hm_cnt','mean') # emd_nm\n",
    "all_data = update_null_data(all_data, ['emd_nm','year'], 'hm_cnt','mean') # emd_nm\n",
    "all_data = update_null_data(all_data, ['emd_nm'], 'hm_cnt','mean')\n",
    "all_data = update_null_data(all_data, ['emd_nm_2','year','month'], 'hm_cnt','mean') # emd_nm2\n",
    "all_data = update_null_data(all_data, ['emd_nm_2','year'], 'hm_cnt','mean') # emd_nm2\n",
    "all_data = update_null_data(all_data, ['emd_nm_2'], 'hm_cnt','mean')\n",
    "all_data = update_null_data(all_data, ['emd_nm_1','year','month'], 'hm_cnt','mean') # emd_nm1\n",
    "all_data = update_null_data(all_data, ['emd_nm_1','year'], 'hm_cnt','mean') # emd_nm1\n",
    "all_data = update_null_data(all_data, ['emd_nm_1'], 'hm_cnt','mean')"
   ]
  },
  {
   "cell_type": "code",
   "execution_count": 227,
   "metadata": {
    "ExecuteTime": {
     "end_time": "2019-12-13T04:34:35.457296Z",
     "start_time": "2019-12-13T04:34:35.340269Z"
    }
   },
   "outputs": [],
   "source": [
    "all_data.loc[(all_data['bldng_us']=='위험물저장및처리시설')&(all_data['lnd_us_sttn_nm']!='공업용'),'bldng_us_clssfctn'] = '상업용'\n",
    "all_data.loc[(all_data['bldng_us']=='위험물저장및처리시설')&(all_data['lnd_us_sttn_nm']=='공업용'),'bldng_us_clssfctn'] = '공업용'"
   ]
  },
  {
   "cell_type": "code",
   "execution_count": 228,
   "metadata": {
    "ExecuteTime": {
     "end_time": "2019-12-13T04:34:36.300502Z",
     "start_time": "2019-12-13T04:34:35.459297Z"
    }
   },
   "outputs": [],
   "source": [
    "# 건물 승인일자\n",
    "all_data.loc[all_data['dt_of_athrztn'].notnull(),'dt_of_athrztn'] = all_data.loc[all_data['dt_of_athrztn'].notnull(),'dt_of_athrztn'].astype(str)\n",
    "def get_len(x):\n",
    "    if pd.isna(x):\n",
    "        return 0\n",
    "    return len(x)\n",
    "all_data['dt_of_athrztn_len'] = all_data['dt_of_athrztn'].apply(lambda x: get_len(x))\n",
    "# 수동으로 데이터 보면서 처리한 이상한 건물 승인일자 9개, 앞단에서 sort되면 이 값이 틀어지기 때문에 조심해야한다.\n",
    "all_data.loc[all_data['dt_of_athrztn_len']==9,'dt_of_athrztn'] = ['1989','1890','1890','1990','1999','1982','1978','1994']\n",
    "del all_data['dt_of_athrztn_len']\n",
    "\n",
    "def conv_date(x):\n",
    "    if pd.isna(x):\n",
    "        return np.nan\n",
    "    \n",
    "    if isinstance(x, str) is False:\n",
    "        print(x, 'not str')\n",
    "        return np.nan\n",
    "\n",
    "    x = x.split('.')[0]\n",
    "    if len(x) != 8:\n",
    "        return datetime.datetime.strptime(x[:4], \"%Y\") # year\n",
    "    try:\n",
    "        m = int(x[4:6])\n",
    "        d = int(x[6:8])\n",
    "        if 0 < m < 13 and 0 < d < 32: # month와 day가 invalid하면 year, month, day 사용\n",
    "            return datetime.datetime.strptime(x, \"%Y%m%d\") # year month day\n",
    "        \n",
    "        if 0 < m < 13: # month가 invalid 하면 month까지\n",
    "            return datetime.datetime.strptime(x[:6], \"%Y%m\") # year month day\n",
    "        else:\n",
    "            raise ValueError\n",
    "    except ValueError as e: # 나머지는 year만\n",
    "        return datetime.datetime.strptime(x[:4], \"%Y\") # year\n",
    "        \n",
    "all_data['dt_of_athrztn'] = all_data['dt_of_athrztn'].apply(lambda x: conv_date(x))\n",
    "\n",
    "def get_year(x):\n",
    "    if pd.isna(x):\n",
    "        return np.nan\n",
    "    return x.year\n",
    "all_data['dt_of_athrztn_year'] = all_data['dt_of_athrztn'].apply(lambda x: get_year(x))"
   ]
  },
  {
   "cell_type": "code",
   "execution_count": 229,
   "metadata": {
    "ExecuteTime": {
     "end_time": "2019-12-13T04:34:44.133277Z",
     "start_time": "2019-12-13T04:34:36.301502Z"
    },
    "scrolled": true
   },
   "outputs": [],
   "source": [
    "def get_diff_dt_of_fr(row):\n",
    "    if pd.isna(row['dt_of_athrztn']):\n",
    "        return np.nan\n",
    "    try:\n",
    "        return (row['dt_of_fr'] - pd.to_datetime(row['dt_of_athrztn'])).days\n",
    "    except:\n",
    "        return np.nan\n",
    "    \n",
    "all_data['diff_dt_of_fr'] = all_data[['dt_of_fr','dt_of_athrztn']].apply(lambda row:get_diff_dt_of_fr(row) ,axis=1)\n",
    "all_data['diff_dt_of_fr_freq_enc'] = all_data['diff_dt_of_fr'].map(all_data['diff_dt_of_fr'].value_counts())"
   ]
  },
  {
   "cell_type": "code",
   "execution_count": 230,
   "metadata": {
    "ExecuteTime": {
     "end_time": "2019-12-13T04:34:44.747410Z",
     "start_time": "2019-12-13T04:34:44.134277Z"
    },
    "scrolled": true
   },
   "outputs": [
    {
     "name": "stdout",
     "output_type": "stream",
     "text": [
      "emd_nm_1\n",
      "emd_nm_2\n",
      "emd_nm\n",
      "same_bld\n",
      "bldng_archtctr\n",
      "bldng_us\n",
      "bldng_us_clssfctn\n",
      "blk_dngrs_thng_mnfctr_yn\n",
      "cltrl_hrtg_yn\n",
      "dngrs_thng_yn\n",
      "dt_of_athrztn\n",
      "fr_fghtng_fclt_spcl_css_5_yn\n",
      "fr_fghtng_fclt_spcl_css_6_yn\n",
      "jmk\n",
      "lnd_us_sttn_nm\n",
      "mlt_us_yn\n",
      "rd_sd_nm\n",
      "rgnl_ar_nm\n",
      "rgnl_ar_nm2\n",
      "slf_fr_brgd_yn\n",
      "trgt_crtr\n",
      "us_yn\n",
      "emd_nm_0\n",
      "emd_nm_3\n"
     ]
    }
   ],
   "source": [
    "cat_feature = []\n",
    "for c in all_data.columns:\n",
    "    if all_data[c].dtypes == 'object':\n",
    "        print(c)\n",
    "        cat_feature.append(c)\n",
    "        all_data[c] = pd.factorize(all_data[c],sort=True)[0]"
   ]
  },
  {
   "cell_type": "code",
   "execution_count": 241,
   "metadata": {
    "ExecuteTime": {
     "end_time": "2019-12-13T04:52:16.115772Z",
     "start_time": "2019-12-13T04:52:15.949734Z"
    }
   },
   "outputs": [
    {
     "name": "stdout",
     "output_type": "stream",
     "text": [
      "(66097, 217)\n",
      "(57651, 217)\n"
     ]
    }
   ],
   "source": [
    "train = all_data.loc[all_data['dataset'].isin([0,1])] # train + validation\n",
    "print(train.shape)\n",
    "train = train.loc[~train['emd_nm_1'].isin([0,13])] # 창원시는 불이 안났는데?? 아마 잘못 샘플링 된 것 같으니 빼버린다.\n",
    "print(train.shape)\n",
    "validation = all_data.loc[all_data['dataset']==1].reset_index(drop=True)\n",
    "test = all_data.loc[all_data['dataset']==2].reset_index(drop=True)"
   ]
  },
  {
   "cell_type": "code",
   "execution_count": 244,
   "metadata": {
    "ExecuteTime": {
     "end_time": "2019-12-13T04:56:08.551940Z",
     "start_time": "2019-12-13T04:55:43.144838Z"
    },
    "scrolled": true
   },
   "outputs": [
    {
     "name": "stdout",
     "output_type": "stream",
     "text": [
      "{'boost': 'gbdt', 'feature_fraction': 0.3, 'bagging_fraction': 0.8, 'learning_rate': 0.05, 'subsample_freq': 1, 'max_depth': -1, 'metric': 'auc', 'num_leaves': 256, 'num_threads': 32, 'objective': 'binary', 'verbosity': 1, 'seed': 46}\n",
      "['emd_nm_1', 'year', 'month', 'emd_nm_2', 'emd_nm', 'same_bld', 'day', 'hour', 'ahsm_dstnc', 'bldng_ar', 'bldng_ar_prc', 'bldng_archtctr', 'bldng_cnt', 'bldng_cnt_in_50m', 'bldng_us', 'bldng_us_clssfctn', 'blk_dngrs_thng_mnfctr_yn', 'cctv_dstnc', 'cctv_in_100m', 'cltrl_hrtg_yn', 'dngrs_thng_yn', 'dt_of_athrztn', 'fr_fghtng_fclt_spcl_css_5_yn', 'fr_fghtng_fclt_spcl_css_6_yn', 'fr_mn_cnt', 'fr_sttn_dstnc', 'fr_wthr_fclt_dstnc', 'fr_wthr_fclt_in_100m', 'hm_cnt', 'hmdt', 'jmk', 'lnd_ar', 'lnd_us_sttn_nm', 'mlt_us_yn', 'no_tbc_zn_dstnc', 'prcpttn', 'rd_sd_nm', 'rgnl_ar_nm', 'rgnl_ar_nm2', 'sft_emrgnc_bll_dstnc', 'slf_fr_brgd_yn', 'tbc_rtl_str_dstnc', 'tmprtr', 'trgt_crtr', 'ttl_ar', 'ttl_dwn_flr', 'ttl_grnd_flr', 'us_yn', 'wnd_drctn', 'wnd_spd', 'null_count', 'ele_null_count', 'ele_engry_mean', 'ele_engry_sum', 'ele_engry_max', 'gas_engry_mean', 'gas_engry_sum', 'gas_engry_max', 'lw_null_count', 'lw_null_mean', 'lw_null_sum', 'weekday', 'same_bld_freq_enc', 'is_only_one_same_bld', 'each_ttl_ar_price', 'each_bldng_ar_price', 'each_lnd_ar_price', 'is_null_prcpttn', 'feels_bad', 'feels_like', 'heat_index', 'fr_mn_cnt_null', 'hm_cnt_null', 'dt_of_athrztn_year', 'diff_dt_of_fr', 'diff_dt_of_fr_freq_enc']\n",
      "1 FOLD Start\n",
      "Training until validation scores don't improve for 100 rounds\n",
      "[100]\ttraining's auc: 0.995123\tvalid_1's auc: 0.881761\n",
      "Early stopping, best iteration is:\n",
      "[58]\ttraining's auc: 0.982503\tvalid_1's auc: 0.882785\n",
      "Train Optimal F1-Score\n"
     ]
    },
    {
     "data": {
      "application/vnd.jupyter.widget-view+json": {
       "model_id": "f44163e6d50c4a4ea89c7998bbdc0dba",
       "version_major": 2,
       "version_minor": 0
      },
      "text/plain": [
       "HBox(children=(IntProgress(value=0, max=20), HTML(value='')))"
      ]
     },
     "metadata": {},
     "output_type": "display_data"
    },
    {
     "name": "stdout",
     "output_type": "stream",
     "text": [
      "[[0.2800000000000001 0.5581874356333677]]\n",
      "1 FOLD Score:  0.8827854982915406\n",
      "2 FOLD Start\n",
      "Training until validation scores don't improve for 100 rounds\n",
      "[100]\ttraining's auc: 0.995217\tvalid_1's auc: 0.884272\n",
      "Early stopping, best iteration is:\n",
      "[94]\ttraining's auc: 0.994103\tvalid_1's auc: 0.884552\n",
      "Train Optimal F1-Score\n"
     ]
    },
    {
     "data": {
      "application/vnd.jupyter.widget-view+json": {
       "model_id": "343055f043a648cabc3c68453b1fc47b",
       "version_major": 2,
       "version_minor": 0
      },
      "text/plain": [
       "HBox(children=(IntProgress(value=0, max=20), HTML(value='')))"
      ]
     },
     "metadata": {},
     "output_type": "display_data"
    },
    {
     "name": "stdout",
     "output_type": "stream",
     "text": [
      "[[0.26000000000000006 0.5526954832442934]]\n",
      "2 FOLD Score:  0.8845518734447332\n",
      "3 FOLD Start\n",
      "Training until validation scores don't improve for 100 rounds\n",
      "[100]\ttraining's auc: 0.995176\tvalid_1's auc: 0.885551\n",
      "Early stopping, best iteration is:\n",
      "[47]\ttraining's auc: 0.97633\tvalid_1's auc: 0.886592\n",
      "Train Optimal F1-Score\n"
     ]
    },
    {
     "data": {
      "application/vnd.jupyter.widget-view+json": {
       "model_id": "ccaaa124cf0e4d26b1919df8065f6909",
       "version_major": 2,
       "version_minor": 0
      },
      "text/plain": [
       "HBox(children=(IntProgress(value=0, max=20), HTML(value='')))"
      ]
     },
     "metadata": {},
     "output_type": "display_data"
    },
    {
     "name": "stdout",
     "output_type": "stream",
     "text": [
      "[[0.26000000000000006 0.5637122514117359]]\n",
      "3 FOLD Score:  0.886591510160837\n",
      "4 FOLD Start\n",
      "Training until validation scores don't improve for 100 rounds\n",
      "[100]\ttraining's auc: 0.995232\tvalid_1's auc: 0.882645\n",
      "Early stopping, best iteration is:\n",
      "[84]\ttraining's auc: 0.991939\tvalid_1's auc: 0.883982\n",
      "Train Optimal F1-Score\n"
     ]
    },
    {
     "data": {
      "application/vnd.jupyter.widget-view+json": {
       "model_id": "06124311b9a44956888798ad175019e2",
       "version_major": 2,
       "version_minor": 0
      },
      "text/plain": [
       "HBox(children=(IntProgress(value=0, max=20), HTML(value='')))"
      ]
     },
     "metadata": {},
     "output_type": "display_data"
    },
    {
     "name": "stdout",
     "output_type": "stream",
     "text": [
      "[[0.24000000000000005 0.5480410447761194]]\n",
      "4 FOLD Score:  0.8839818686095128\n",
      "5 FOLD Start\n",
      "Training until validation scores don't improve for 100 rounds\n",
      "[100]\ttraining's auc: 0.994947\tvalid_1's auc: 0.887812\n",
      "Early stopping, best iteration is:\n",
      "[43]\ttraining's auc: 0.974039\tvalid_1's auc: 0.889012\n",
      "Train Optimal F1-Score\n"
     ]
    },
    {
     "data": {
      "application/vnd.jupyter.widget-view+json": {
       "model_id": "ef14e6a24349459b98fbdee225721141",
       "version_major": 2,
       "version_minor": 0
      },
      "text/plain": [
       "HBox(children=(IntProgress(value=0, max=20), HTML(value='')))"
      ]
     },
     "metadata": {},
     "output_type": "display_data"
    },
    {
     "name": "stdout",
     "output_type": "stream",
     "text": [
      "[[0.2800000000000001 0.5732250458475242]]\n",
      "5 FOLD Score:  0.8890123290695588\n",
      "Total CV:  0.8853846159152364 0\n",
      "Total CV2:  0.884776566262193\n"
     ]
    },
    {
     "data": {
      "application/vnd.jupyter.widget-view+json": {
       "model_id": "a44b2fb6293646eb977c0fcec987365e",
       "version_major": 2,
       "version_minor": 0
      },
      "text/plain": [
       "HBox(children=(IntProgress(value=0, max=20), HTML(value='')))"
      ]
     },
     "metadata": {},
     "output_type": "display_data"
    },
    {
     "name": "stdout",
     "output_type": "stream",
     "text": [
      "[[0.2800000000000001 0.557575131674068]]\n"
     ]
    }
   ],
   "source": [
    "train_columns = [c for c in train.columns if c not in lw_feature+ele_engry_feature+gas_engry_feature+['dataset','dt_of_fr','fr_yn',\n",
    "                                                                                                      'id',\n",
    "                                                                                                   'emd_nm_0','emd_nm_3',\n",
    "                                                                                                      'is_null_same_bld']]\n",
    "cat_feature = ['same_bld', 'bldng_archtctr','bldng_us','bldng_us_clssfctn',\n",
    "               'jmk','lnd_us_sttn_nm','rd_sd_nm','rgnl_ar_nm','rgnl_ar_nm2','trgt_crtr','emd_nm']\n",
    "\n",
    "lgb_param = {'boost': 'gbdt', \n",
    "         'feature_fraction': 0.3, \n",
    "         'bagging_fraction': 0.8, \n",
    "         'learning_rate': 0.05, \n",
    "         'subsample_freq': 1,\n",
    "         'max_depth': -1,\n",
    "         'metric': 'auc', \n",
    "         'num_leaves': 256, \n",
    "         'num_threads': 32, \n",
    "         'objective': 'binary', \n",
    "         'verbosity': 1, \n",
    "         'seed': 46}\n",
    "\n",
    "print(lgb_param)\n",
    "print(train_columns)\n",
    "\n",
    "oof_train = np.zeros(len(train))\n",
    "oof_test = np.zeros(len(test))\n",
    "\n",
    "x_train = train.copy()\n",
    "y_train = x_train['fr_yn']\n",
    "\n",
    "NFOLD = 5\n",
    "SEED = 42\n",
    "\n",
    "feature_importance_df = pd.DataFrame()\n",
    "total_cv_score = 0\n",
    "holdout_cv_score = 0\n",
    "holdout_total_cv_score = 0\n",
    "\n",
    "kfold = StratifiedKFold(n_splits=NFOLD, shuffle=True, random_state=SEED)\n",
    "for i, (train_index, cross_index) in enumerate(kfold.split(x_train,y_train),1):\n",
    "    print(f\"{i} FOLD Start\")\n",
    "    x_tr = x_train.iloc[train_index]\n",
    "    x_cr = x_train.iloc[cross_index]\n",
    "    y_tr = y_train.iloc[train_index]\n",
    "    y_cr = y_train.iloc[cross_index]\n",
    "\n",
    "    x_tr = x_tr[train_columns]\n",
    "    x_cr = x_cr[train_columns]\n",
    "\n",
    "    dtrain = lgb.Dataset(x_tr, label=y_tr, silent=True)\n",
    "    dcross = lgb.Dataset(x_cr, label=y_cr, silent=True)\n",
    "\n",
    "    clf = lgb.train(lgb_param, train_set=dtrain, num_boost_round=10000, valid_sets=[dtrain, dcross], \n",
    "                    early_stopping_rounds=100, verbose_eval=100, categorical_feature=cat_feature)\n",
    "\n",
    "    oof_train[cross_index] = clf.predict(x_cr)\n",
    "    oof_test += clf.predict(test[train_columns]) / NFOLD\n",
    "\n",
    "    feature_importance = pd.DataFrame()\n",
    "    feature_importance[\"Feature\"] = x_tr.columns\n",
    "    feature_importance[\"Importance\"] = clf.feature_importance()\n",
    "    feature_importance[\"FOLD\"] = i\n",
    "    feature_importance_df = pd.concat([feature_importance_df, feature_importance])\n",
    "\n",
    "    cv_score = roc_auc_score(y_cr, oof_train[cross_index])\n",
    "    print(\"Train Optimal F1-Score\")\n",
    "    tr_result = optimal_cut_value(y_cr, oof_train[cross_index])\n",
    "\n",
    "    total_cv_score += cv_score / NFOLD\n",
    "    \n",
    "    print(f\"{i} FOLD Score: \", cv_score)\n",
    "\n",
    "print(\"Total CV: \", total_cv_score, holdout_total_cv_score)\n",
    "print(\"Total CV2: \", roc_auc_score(y_train, oof_train))\n",
    "\n",
    "tr_result = optimal_cut_value(y_train, oof_train,cut_step=0.01)"
   ]
  },
  {
   "cell_type": "code",
   "execution_count": 233,
   "metadata": {
    "ExecuteTime": {
     "end_time": "2019-12-13T04:38:16.852171Z",
     "start_time": "2019-12-13T04:38:15.806810Z"
    },
    "scrolled": true
   },
   "outputs": [
    {
     "data": {
      "image/png": "[encoded data removed]",
      "text/plain": [
       "<Figure size 576x2880 with 1 Axes>"
      ]
     },
     "metadata": {
      "needs_background": "light"
     },
     "output_type": "display_data"
    }
   ],
   "source": [
    "fi_result = feature_importance_df.groupby(['Feature'])['Importance'].mean().reset_index()\n",
    "temp = fi_result.sort_values('Importance',ascending=False)\n",
    "plt.figure(figsize=(8,40))\n",
    "sns.barplot('Importance','Feature',data=temp,orient='h')\n",
    "plt.title('Feature Importance')\n",
    "plt.show()"
   ]
  },
  {
   "cell_type": "markdown",
   "metadata": {},
   "source": [
    "## 컷오프에 따른 점수 확인. \n",
    "- 0.32 0.53506 \n",
    "- 0.2965 0.56491\n",
    "- **0.2975 0.56591** \n",
    "- 0.2945 0.56491 \n",
    "- 0.2935 0.56392 \n",
    "- 0.291 0.56195 \n",
    "- power, 2 0.09 0.56338 \n",
    "- power 2 0.091 0.56437 "
   ]
  },
  {
   "cell_type": "code",
   "execution_count": 234,
   "metadata": {
    "ExecuteTime": {
     "end_time": "2019-12-13T04:38:21.719271Z",
     "start_time": "2019-12-13T04:38:21.709283Z"
    }
   },
   "outputs": [
    {
     "name": "stdout",
     "output_type": "stream",
     "text": [
      "0.2975 542\n"
     ]
    }
   ],
   "source": [
    "cut_off = 0.2975\n",
    "oof_conv = []\n",
    "for c in oof_test:\n",
    "    if c >= cut_off:\n",
    "        oof_conv.append('Y')\n",
    "    else:\n",
    "        oof_conv.append('N')\n",
    "        \n",
    "print(cut_off, len([c for c in oof_conv if c=='Y']))"
   ]
  },
  {
   "cell_type": "markdown",
   "metadata": {},
   "source": [
    "## Post Processing\n",
    "- jmk_comb4는 dt_of_athrztn가 not null인 row에서 category 변수를 4 combination으로 조합한 것.<br>\n",
    "- data를 보면 zero_ratio가 1인 것들이 많다.  <br>\n",
    "- 모델의 오버피팅을 방지하기 위해서 zero_count가 50개 초과이면서 zero_ratio가 0.95 초과인 것들은 0으로 바꿔준다. <br>\n",
    "- 0.95, 50을 선택한 이유는 cut_off 0.2975에서 모델이 "
   ]
  },
  {
   "cell_type": "code",
   "execution_count": 235,
   "metadata": {
    "ExecuteTime": {
     "end_time": "2019-12-13T04:38:27.552566Z",
     "start_time": "2019-12-13T04:38:26.396313Z"
    },
    "scrolled": true
   },
   "outputs": [
    {
     "data": {
      "application/vnd.jupyter.widget-view+json": {
       "model_id": "302064b247894b61a8e4ba502e5104d3",
       "version_major": 2,
       "version_minor": 0
      },
      "text/plain": [
       "HBox(children=(IntProgress(value=1, bar_style='info', max=1), HTML(value='')))"
      ]
     },
     "metadata": {},
     "output_type": "display_data"
    },
    {
     "name": "stdout",
     "output_type": "stream",
     "text": [
      "1 1 1.0\n",
      "1 2 1.0\n",
      "1 3 1.0\n",
      "1 4 1.0\n",
      "1 5 1.0\n",
      "1 6 1.0\n",
      "1 7 1.0\n",
      "1 8 1.0\n",
      "1 9 0.9938650306748468\n",
      "1 10 0.99375\n",
      "1 11 0.9927007299270072\n",
      "1 12 0.9927007299270072\n",
      "1 13 0.9926470588235294\n",
      "1 14 0.984126984126984\n",
      "1 15 0.9835164835164836\n",
      "1 16 0.9827586206896552\n",
      "2 18 0.9807692307692308\n",
      "2 20 0.975609756097561\n",
      "3 23 0.9743589743589745\n",
      "1 24 0.9718309859154929\n",
      "2 26 0.9710144927536232\n",
      "2 28 0.9705882352941176\n",
      "2 30 0.967741935483871\n",
      "3 33 0.9666666666666668\n",
      "13 46 0.9666666666666668\n",
      "10 56 0.9649122807017544\n",
      "3 59 0.9562043795620438\n",
      "7 66 0.9550561797752808\n",
      "7 73 0.9516129032258064\n",
      "6 79 0.9503105590062112\n"
     ]
    }
   ],
   "source": [
    "comb4 = pd.read_csv('../input/jmk_comb4.csv',encoding='euc-kr')\n",
    "temp = comb4.loc[comb4['zero_count']>50].sort_values(['zero_ratio','zero_count'],ascending=[False,False])\n",
    "temp = temp.loc[(temp['zero_ratio']>0.95)]\n",
    "test = pd.read_csv('../input/PJT002_test.csv')\n",
    "temp['test_count'] = 0\n",
    "temp['id'] = np.nan\n",
    "acc_count = 0\n",
    "for i, row in tqdm(temp.iterrows()):\n",
    "    cat0 = row['cat0']\n",
    "    cat1 = row['cat1']\n",
    "    cat2 = row['cat2']\n",
    "    cat3 = row['cat3']\n",
    "    c0u = row['c0u']\n",
    "    c1u = row['c1u']\n",
    "    c2u = row['c2u']\n",
    "    c3u = row['c3u']\n",
    "    selected = test.loc[(test[cat0]==c0u)&(test[cat1]==c1u)&(test[cat2]==c2u)&(test[cat3]==c3u)]\n",
    "    count = selected.shape[0]\n",
    "    acc_count += count\n",
    "    if count > 0:\n",
    "        print(count, acc_count, row['zero_ratio'])\n",
    "    if count == 0:\n",
    "        temp.loc[i,('test_count','id')] = (count,np.nan)\n",
    "    else:\n",
    "        temp.loc[i,('test_count','id')] = (count,set(selected['id'].values))"
   ]
  },
  {
   "cell_type": "code",
   "execution_count": 236,
   "metadata": {
    "ExecuteTime": {
     "end_time": "2019-12-13T04:38:29.332988Z",
     "start_time": "2019-12-13T04:38:29.327986Z"
    }
   },
   "outputs": [],
   "source": [
    "all_id_set = set()\n",
    "for c in temp.loc[(temp['test_count']!=0),'id'].values:\n",
    "    all_id_set = all_id_set.union(c)"
   ]
  },
  {
   "cell_type": "markdown",
   "metadata": {},
   "source": [
    "## Post Processing에 의해서 바뀐 결과 확인 \n",
    "- zero_count > 50\n",
    "- zero_ratio > 0.95 \n",
    "- pred 값이 Y"
   ]
  },
  {
   "cell_type": "code",
   "execution_count": 237,
   "metadata": {
    "ExecuteTime": {
     "end_time": "2019-12-13T04:38:33.967010Z",
     "start_time": "2019-12-13T04:38:33.885010Z"
    }
   },
   "outputs": [
    {
     "data": {
      "text/plain": [
       "457     0.319221\n",
       "2545    0.353961\n",
       "Name: pred, dtype: float64"
      ]
     },
     "execution_count": 237,
     "metadata": {},
     "output_type": "execute_result"
    }
   ],
   "source": [
    "test = pd.read_csv('../input/PJT002_test.csv')\n",
    "test['pred'] = oof_test\n",
    "test.loc[(test['id'].isin(all_id_set))&(test['pred']>0.2975),'pred']"
   ]
  },
  {
   "cell_type": "markdown",
   "metadata": {},
   "source": [
    "## 리더보드를 통한 점수 확인 \n",
    "- 실제 알고리즘이 어떻게 분류했는지 살펴본다.<br>\n",
    "- cut line을 0.32, 0.36으로 바꿔가면서 리더보드 결과를 살펴본다. <br>\n",
    "- 리더보드 점수가 나빠지지 않았기 때문에 사용.<br>"
   ]
  },
  {
   "cell_type": "code",
   "execution_count": 238,
   "metadata": {
    "ExecuteTime": {
     "end_time": "2019-12-13T04:38:37.532782Z",
     "start_time": "2019-12-13T04:38:37.491792Z"
    }
   },
   "outputs": [
    {
     "data": {
      "text/plain": [
       "540"
      ]
     },
     "execution_count": 238,
     "metadata": {},
     "output_type": "execute_result"
    }
   ],
   "source": [
    "submission = pd.read_csv('../input/PJT002_submission.csv')\n",
    "submission['fr_yn'] = oof_test\n",
    "submission['fr_yn_real'] = np.nan\n",
    "\n",
    "# 여러 번 제출하여 cut off 값을 정함\n",
    "\n",
    "submission.loc[(test.loc[test['id'].isin(all_id_set)].index)&(submission.loc[submission['fr_yn']<0.36].index),'fr_yn_real'] = 'N'\n",
    "submission.loc[(submission['fr_yn']>=0.2975)&(submission['fr_yn_real'].isnull()),'fr_yn_real'] = 'Y'\n",
    "submission.loc[(submission['fr_yn']<0.2975)&(submission['fr_yn_real'].isnull()),'fr_yn_real'] = 'N'\n",
    "del submission['fr_yn']\n",
    "submission.columns = ['fr_yn']\n",
    "len([c for c in submission['fr_yn'] if c=='Y'])"
   ]
  },
  {
   "cell_type": "code",
   "execution_count": 239,
   "metadata": {
    "ExecuteTime": {
     "end_time": "2019-12-13T04:38:40.642674Z",
     "start_time": "2019-12-13T04:38:40.632469Z"
    }
   },
   "outputs": [],
   "source": [
    "submission['fr_yn'] = oof_conv\n",
    "submission.to_csv('../output/yeonmin_화재예측과제_Submission.csv',index=False)"
   ]
  },
  {
   "cell_type": "markdown",
   "metadata": {},
   "source": [
    "# Make Category 4 Combination"
   ]
  },
  {
   "cell_type": "code",
   "execution_count": 207,
   "metadata": {
    "ExecuteTime": {
     "end_time": "2019-12-13T04:28:02.304454Z",
     "start_time": "2019-12-13T04:28:00.976122Z"
    }
   },
   "outputs": [],
   "source": [
    "train = pd.read_csv('../input/PJT002_train.csv')\n",
    "validation = pd.read_csv('../input/PJT002_validation.csv')\n",
    "all_data = pd.concat([train,validation], ignore_index=True)\n",
    "dt_of_athrztn_notnull = all_data.loc[all_data['dt_of_athrztn'].notnull()]\n",
    "\n",
    "cat_feature = ['bldng_archtctr','bldng_us','bldng_us_clssfctn',\n",
    "               'jmk','lnd_us_sttn_nm','rd_sd_nm','rgnl_ar_nm','rgnl_ar_nm2','trgt_crtr']"
   ]
  },
  {
   "cell_type": "code",
   "execution_count": 208,
   "metadata": {
    "ExecuteTime": {
     "end_time": "2019-12-13T04:28:03.820799Z",
     "start_time": "2019-12-13T04:28:03.794792Z"
    }
   },
   "outputs": [],
   "source": [
    "unique_list_dict = {}\n",
    "for c in cat_feature:\n",
    "    unique_list_dict[c] = dt_of_athrztn_notnull[c].unique()"
   ]
  },
  {
   "cell_type": "code",
   "execution_count": null,
   "metadata": {},
   "outputs": [],
   "source": [
    "import itertools\n",
    "result_jmk3 = pd.DataFrame(columns=['cat0','cat1','cat2','cat3','c0u','c1u','c2u','c3u','zero_count','one_count','zero_ratio','one_ratio'])\n",
    "cat_comb = list(itertools.combinations(cat_feature, 4))\n",
    "for c in tqdm(cat_comb):\n",
    "    cat1 = c[0]\n",
    "    cat2 = c[1]\n",
    "    cat3 = c[2]\n",
    "    cat4 = c[3]\n",
    "    print(c)\n",
    "    for c1 in unique_list_dict[cat1]:\n",
    "        temp = dt_of_athrztn_notnull.loc[dt_of_athrztn_notnull[cat1]==c1]\n",
    "        if temp.shape[0] == 0:\n",
    "            continue\n",
    "        for c2 in unique_list_dict[cat2]:\n",
    "            temp2 = temp.loc[temp[cat2]==c2]\n",
    "            if temp2.shape[0] == 0:\n",
    "                continue\n",
    "            for c3 in unique_list_dict[cat3]:\n",
    "                temp3 = temp2.loc[temp2[cat3]==c3]\n",
    "                if temp3.shape[0] == 0:\n",
    "                    continue\n",
    "                for c4 in unique_list_dict[cat4]:\n",
    "                    temp4 = temp3.loc[(temp3[cat4]==c4),'fr_yn']\n",
    "                    if temp4.shape[0] == 0:\n",
    "                        continue\n",
    "                    item1 = temp4.value_counts()\n",
    "                    try:\n",
    "                        z = item1[0]\n",
    "                    except (KeyError and IndexError):\n",
    "                        z = 0\n",
    "                    try:\n",
    "                        o = item1[1]\n",
    "                    except (KeyError and IndexError):\n",
    "                        o = 0\n",
    "                    result_jmk3.loc[len(result_jmk3),['cat0','cat1','cat2','cat3',\n",
    "                                                      'c0u','c1u','c2u','c3u',\n",
    "                                                      'zero_count','one_count','zero_ratio','one_ratio']] = (cat1,cat2,cat3,cat4,\n",
    "                                                                                                             c1,c2,c3,c4,\n",
    "                                                                                                                           z,o,\n",
    "                                                                                                                           z/(z+o),\n",
    "                                                                                                                           o/(z+o))"
   ]
  },
  {
   "cell_type": "code",
   "execution_count": null,
   "metadata": {},
   "outputs": [],
   "source": [
    "result_jmk3.to_csv('../input/jmk_comb4.csv',index=False,encoding='euc-kr')"
   ]
  }
 ],
 "metadata": {
  "kernelspec": {
   "display_name": "Python 3",
   "language": "python",
   "name": "python3"
  },
  "language_info": {
   "codemirror_mode": {
    "name": "ipython",
    "version": 3
   },
   "file_extension": ".py",
   "mimetype": "text/x-python",
   "name": "python",
   "nbconvert_exporter": "python",
   "pygments_lexer": "ipython3",
   "version": "3.7.3"
  },
  "latex_envs": {
   "LaTeX_envs_menu_present": true,
   "autoclose": false,
   "autocomplete": true,
   "bibliofile": "biblio.bib",
   "cite_by": "apalike",
   "current_citInitial": 1,
   "eqLabelWithNumbers": true,
   "eqNumInitial": 1,
   "hotkeys": {
    "equation": "Ctrl-E",
    "itemize": "Ctrl-I"
   },
   "labels_anchors": false,
   "latex_user_defs": false,
   "report_style_numbering": false,
   "user_envs_cfg": false
  },
  "varInspector": {
   "cols": {
    "lenName": 16,
    "lenType": 16,
    "lenVar": 40
   },
   "kernels_config": {
    "python": {
     "delete_cmd_postfix": "",
     "delete_cmd_prefix": "del ",
     "library": "var_list.py",
     "varRefreshCmd": "print(var_dic_list())"
    },
    "r": {
     "delete_cmd_postfix": ") ",
     "delete_cmd_prefix": "rm(",
     "library": "var_list.r",
     "varRefreshCmd": "cat(var_dic_list()) "
    }
   },
   "types_to_exclude": [
    "module",
    "function",
    "builtin_function_or_method",
    "instance",
    "_Feature"
   ],
   "window_display": false
  }
 },
 "nbformat": 4,
 "nbformat_minor": 2
}
